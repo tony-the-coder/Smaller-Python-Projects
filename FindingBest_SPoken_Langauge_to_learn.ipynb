{
  "nbformat": 4,
  "nbformat_minor": 0,
  "metadata": {
    "colab": {
      "name": "FindingBest-SPoken-Langauge-to-learn.ipynb",
      "provenance": [],
      "collapsed_sections": [],
      "authorship_tag": "ABX9TyNAiwNCUVD7k9MC0WdtFNwM",
      "include_colab_link": true
    },
    "kernelspec": {
      "name": "python3",
      "display_name": "Python 3"
    }
  },
  "cells": [
    {
      "cell_type": "markdown",
      "metadata": {
        "id": "view-in-github",
        "colab_type": "text"
      },
      "source": [
        "<a href=\"https://colab.research.google.com/github/tony-the-coder/Smaller-Python-Projects/blob/main/FindingBest_SPoken_Langauge_to_learn.ipynb\" target=\"_parent\"><img src=\"https://colab.research.google.com/assets/colab-badge.svg\" alt=\"Open In Colab\"/></a>"
      ]
    },
    {
      "cell_type": "code",
      "metadata": {
        "id": "OyR5OINvQ2tu",
        "colab": {
          "base_uri": "https://localhost:8080/",
          "height": 87
        },
        "outputId": "3452387d-74ad-43fa-d81d-1792e16f5b7d"
      },
      "source": [
        "english_language = [\"Antigua\", \"Barbuda\",\"Australia\",\"Bahamas\",\"Bahrain\",\"Bangladesh\",\"Barbados\",\"Belize\",\"Botswana\",\"Brunei\",\"Burundi\",\"Cameroon\",\"Canada\",\"Cook Islands\",\"Cyprus\",\"Dominica\",\"Eritrea\",\"Ethiopia\",\"Fiji\",\"Ghana\",\"Grenada\",\"Guyana\",\"India\",\"Ireland\",\"Israel\",\"Jamaica\",\"Jordan\",\"Kenya\",\"Kiribati\",\"Kuwait\",\"Lesotho\",\"Liberia\",\"Malawi\",\"Malaysia\",\"Maldives\",\"Malta\",\"Marshall Islands\",\"Mauritius\",\"Myanmar\",\"Namibia\",\"Nauru\",\"Nepal\",\"New Zealand\",\"Nigeria\",\"Niue\",\"Pakistan\",\"Palau\",\"Papua New Guinea\",\"Philippines\",\"Qatar\",\"Rwanda\",\"Saint Kitts and Nevis\",\"Saint Lucia\",\"Saint Vincent and the Grenadines\",\"Samoa\",\"Seychelles\",\"Sierra Leone\",\"Singapore\",\"Solomon Islands\",\"South Africa\",\"South Sudan\",\"Sri Lanka\",\"Sudan\",\"Tanzania\",\"Tonga\",\"Trinidad and Tobago\",\"Tuvalu\",\"Uganda\",\"United Arab Emirates\",\"United Kingdom\",\"United States\",\"Vanuatu\",\"Zambia\",\"Zimbabwe\"]\n",
        "french_language = [\"Belgium\", \"Benin\", \"Burkina Faso\", \"Burundi\", \"Cameroon\", \"Canada\", \"Centeral African Republic\", \"Chad\", \"Comoros\", \"Djibouti\", \"Dominica\", \"DR Congo\", \"Equatorial Guinea\", \"France\", \"Gabon\", \"Guinea\", \"Haiti\", \"Ivory Coast\", \"Luxembourg\", \"Madagascar\", \"Mali\", \"Monaco\", \"Niger\", \"Republic of the Congo\", \"Rwanda\", \"Saint Lucia\", \"Senegal\", \"Seychelles\", \"Switzerland\", \"Togo\", \"Vanuatu\"]\n",
        "german_language = [\"Austria\", \"Belgium\", \"Germany\", \"Liechtenstein\", \"Luxembourg\", \"Switzerland\"]\n",
        "french_primary= []\n",
        "english_primary = []\n",
        "both_spoken = []\n",
        "single = []\n",
        "\n",
        "for countries in french_language:\n",
        "  if countries not in english_language:\n",
        "    single.append(countries)\n",
        "  else:\n",
        "    both_spoken.append(countries)\n",
        "for second_countries in english_language:\n",
        "  if second_countries not in french_language:\n",
        "    english_primary.append(second_countries)    \n",
        "print(\"Both languages spoken\", both_spoken)\n",
        "print(\"French is a primary language\", single)  \n",
        "print(\"English is primary\", english_primary)\n",
        "   \n",
        "\n"
      ],
      "execution_count": null,
      "outputs": [
        {
          "output_type": "stream",
          "text": [
            "Both languages spoken ['Burundi', 'Cameroon', 'Canada', 'Dominica', 'Rwanda', 'Saint Lucia', 'Seychelles', 'Vanuatu']\n",
            "French is a primary language ['Belgium', 'Benin', 'Burkina Faso', 'Centeral African Republic', 'Chad', 'Comoros', 'Djibouti', 'DR Congo', 'Equatorial Guinea', 'France', 'Gabon', 'Guinea', 'Haiti', 'Ivory Coast', 'Luxembourg', 'Madagascar', 'Mali', 'Monaco', 'Niger', 'Republic of the Congo', 'Senegal', 'Switzerland', 'Togo']\n",
            "English is primary ['Antigua', 'Barbuda', 'Australia', 'Bahamas', 'Bahrain', 'Bangladesh', 'Barbados', 'Belize', 'Botswana', 'Brunei', 'Cook Islands', 'Cyprus', 'Eritrea', 'Ethiopia', 'Fiji', 'Ghana', 'Grenada', 'Guyana', 'India', 'Ireland', 'Israel', 'Jamaica', 'Jordan', 'Kenya', 'Kiribati', 'Kuwait', 'Lesotho', 'Liberia', 'Malawi', 'Malaysia', 'Maldives', 'Malta', 'Marshall Islands', 'Mauritius', 'Myanmar', 'Namibia', 'Nauru', 'Nepal', 'New Zealand', 'Nigeria', 'Niue', 'Pakistan', 'Palau', 'Papua New Guinea', 'Philippines', 'Qatar', 'Saint Kitts and Nevis', 'Saint Vincent and the Grenadines', 'Samoa', 'Sierra Leone', 'Singapore', 'Solomon Islands', 'South Africa', 'South Sudan', 'Sri Lanka', 'Sudan', 'Tanzania', 'Tonga', 'Trinidad and Tobago', 'Tuvalu', 'Uganda', 'United Arab Emirates', 'United Kingdom', 'United States', 'Zambia', 'Zimbabwe']\n"
          ],
          "name": "stdout"
        }
      ]
    },
    {
      "cell_type": "code",
      "metadata": {
        "id": "QcWyGG-7PGuX",
        "colab": {
          "base_uri": "https://localhost:8080/",
          "height": 51
        },
        "outputId": "2804567f-1f0e-41df-b342-b0bd7ea4e7ad"
      },
      "source": [
        "def english_chars(string):\n",
        "    count = 0\n",
        "    for character in string:        \n",
        "        if ord(character) > 127:\n",
        "            count += 1\n",
        "\n",
        "        if count > 3:\n",
        "          return False\n",
        "        else:\n",
        "          return True    \n",
        "print(english_chars(\"Instagram\"))\n",
        "print(english_chars('爱奇艺'))"
      ],
      "execution_count": null,
      "outputs": [
        {
          "output_type": "stream",
          "text": [
            "True\n",
            "True\n"
          ],
          "name": "stdout"
        }
      ]
    },
    {
      "cell_type": "code",
      "metadata": {
        "id": "BeBwvEjnTOTe",
        "colab": {
          "base_uri": "https://localhost:8080/",
          "height": 51
        },
        "outputId": "8df39c72-6dde-44cf-9904-d7da57b62973"
      },
      "source": [
        "def is_english(string):\n",
        "    non_ascii = 0\n",
        "    \n",
        "    for character in string:\n",
        "        if ord(character) > 127:\n",
        "            non_ascii += 1\n",
        "    \n",
        "    if non_ascii > 3:\n",
        "        return False\n",
        "    else:\n",
        "        return True\n",
        "\n",
        "print(is_english('Docs To Go™ Free Office Suite'))\n",
        "print(is_english('爱'))"
      ],
      "execution_count": null,
      "outputs": [
        {
          "output_type": "stream",
          "text": [
            "True\n",
            "True\n"
          ],
          "name": "stdout"
        }
      ]
    },
    {
      "cell_type": "code",
      "metadata": {
        "id": "p9ZF-1IoVk3P",
        "colab": {
          "base_uri": "https://localhost:8080/",
          "height": 51
        },
        "outputId": "c7327f03-933b-4897-ada1-7334de050e6f"
      },
      "source": [
        "def is_english(string):\n",
        "    \n",
        "    for character in string:\n",
        "        if ord(character) > 127:\n",
        "            return False\n",
        "    \n",
        "    return True\n",
        "\n",
        "print(is_english('Instagram'))\n",
        "print(is_english('爱奇艺PPS -《欢乐颂2》电视剧热播'))"
      ],
      "execution_count": null,
      "outputs": [
        {
          "output_type": "stream",
          "text": [
            "True\n",
            "False\n"
          ],
          "name": "stdout"
        }
      ]
    },
    {
      "cell_type": "code",
      "metadata": {
        "id": "EaqhdpZMZYet",
        "colab": {
          "base_uri": "https://localhost:8080/",
          "height": 249
        },
        "outputId": "0bc29027-22a2-4ae4-b8b4-424fd34db44b"
      },
      "source": [
        "import pandas as pd\n",
        "import matplotlib.pyplot as plt\n",
        "from matplotlib_venn import venn3, venn3_circles\n",
        "\n",
        "v3 = venn3([set(english_language), set(french_language), set(german_language)], set_labels=('English', 'French', 'German'))\n",
        "\n",
        "plt.show()\n"
      ],
      "execution_count": null,
      "outputs": [
        {
          "output_type": "display_data",
          "data": {
            "image/png": "[encoded data removed]",
            "text/plain": [
              "<Figure size 432x288 with 1 Axes>"
            ]
          },
          "metadata": {
            "tags": []
          }
        }
      ]
    }
  ]
}